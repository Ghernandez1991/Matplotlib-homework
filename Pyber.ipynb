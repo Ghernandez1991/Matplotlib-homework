{
 "cells": [
  {
   "cell_type": "code",
   "execution_count": 46,
   "metadata": {},
   "outputs": [],
   "source": [
    "%matplotlib inline\n",
    "# Dependencies and Setup\n",
    "import matplotlib.pyplot as plt\n",
    "import pandas as pd\n",
    "import numpy as np\n",
    "from matplotlib.pyplot import figure\n",
    "from pylab import *\n",
    "\n",
    "# File to Load (Remember to change these)\n",
    "city_data_to_load = \"city_data.csv\"\n",
    "ride_data_to_load = \"ride_data.csv\"\n",
    "\n",
    "# Read the City and Ride Data\n",
    "\n",
    "city_data_df = pd.read_csv(city_data_to_load)\n",
    "ride_data_df = pd.read_csv(ride_data_to_load)\n",
    "\n",
    "\n",
    "# Combine the data into a single dataset\n",
    "\n",
    "# Display the data table for preview"
   ]
  },
  {
   "cell_type": "code",
   "execution_count": 47,
   "metadata": {
    "scrolled": true
   },
   "outputs": [
    {
     "data": {
      "text/html": [
       "<div>\n",
       "<style scoped>\n",
       "    .dataframe tbody tr th:only-of-type {\n",
       "        vertical-align: middle;\n",
       "    }\n",
       "\n",
       "    .dataframe tbody tr th {\n",
       "        vertical-align: top;\n",
       "    }\n",
       "\n",
       "    .dataframe thead th {\n",
       "        text-align: right;\n",
       "    }\n",
       "</style>\n",
       "<table border=\"1\" class=\"dataframe\">\n",
       "  <thead>\n",
       "    <tr style=\"text-align: right;\">\n",
       "      <th></th>\n",
       "      <th>city</th>\n",
       "      <th>driver_count</th>\n",
       "      <th>type</th>\n",
       "    </tr>\n",
       "  </thead>\n",
       "  <tbody>\n",
       "    <tr>\n",
       "      <th>0</th>\n",
       "      <td>Richardfort</td>\n",
       "      <td>38</td>\n",
       "      <td>Urban</td>\n",
       "    </tr>\n",
       "    <tr>\n",
       "      <th>1</th>\n",
       "      <td>Williamsstad</td>\n",
       "      <td>59</td>\n",
       "      <td>Urban</td>\n",
       "    </tr>\n",
       "    <tr>\n",
       "      <th>2</th>\n",
       "      <td>Port Angela</td>\n",
       "      <td>67</td>\n",
       "      <td>Urban</td>\n",
       "    </tr>\n",
       "    <tr>\n",
       "      <th>3</th>\n",
       "      <td>Rodneyfort</td>\n",
       "      <td>34</td>\n",
       "      <td>Urban</td>\n",
       "    </tr>\n",
       "    <tr>\n",
       "      <th>4</th>\n",
       "      <td>West Robert</td>\n",
       "      <td>39</td>\n",
       "      <td>Urban</td>\n",
       "    </tr>\n",
       "  </tbody>\n",
       "</table>\n",
       "</div>"
      ],
      "text/plain": [
       "           city  driver_count   type\n",
       "0   Richardfort            38  Urban\n",
       "1  Williamsstad            59  Urban\n",
       "2   Port Angela            67  Urban\n",
       "3    Rodneyfort            34  Urban\n",
       "4   West Robert            39  Urban"
      ]
     },
     "execution_count": 47,
     "metadata": {},
     "output_type": "execute_result"
    }
   ],
   "source": [
    "city_data_df.head()"
   ]
  },
  {
   "cell_type": "code",
   "execution_count": 48,
   "metadata": {},
   "outputs": [
    {
     "data": {
      "text/plain": [
       "2973"
      ]
     },
     "execution_count": 48,
     "metadata": {},
     "output_type": "execute_result"
    }
   ],
   "source": [
    "total_driver_count = city_data_df.driver_count.sum()\n",
    "total_driver_count"
   ]
  },
  {
   "cell_type": "code",
   "execution_count": 49,
   "metadata": {},
   "outputs": [
    {
     "name": "stdout",
     "output_type": "stream",
     "text": [
      "['Urban', 'Urban', 'Suburban', 'Suburban', 'Rural', 'Suburban', 'Urban', 'Urban', 'Suburban', 'Suburban', 'Urban', 'Suburban', 'Suburban', 'Urban', 'Suburban', 'Suburban', 'Urban', 'Rural', 'Urban', 'Suburban', 'Rural', 'Urban', 'Urban', 'Urban', 'Rural', 'Urban', 'Urban', 'Suburban', 'Urban', 'Urban', 'Urban', 'Suburban', 'Urban', 'Rural', 'Urban', 'Rural', 'Suburban', 'Suburban', 'Suburban', 'Urban', 'Urban', 'Suburban', 'Suburban', 'Urban', 'Urban', 'Urban', 'Suburban', 'Rural', 'Suburban', 'Urban', 'Urban', 'Suburban', 'Urban', 'Urban', 'Suburban', 'Rural', 'Suburban', 'Rural', 'Suburban', 'Urban', 'Rural', 'Rural', 'Urban', 'Urban', 'Suburban', 'Urban', 'Urban', 'Suburban', 'Suburban', 'Urban', 'Rural', 'Urban', 'Urban', 'Urban', 'Urban', 'Urban', 'Suburban', 'Rural', 'Urban', 'Urban', 'Urban', 'Urban', 'Urban', 'Urban', 'Suburban', 'Urban', 'Urban', 'Urban', 'Suburban', 'Suburban', 'Urban', 'Urban', 'Rural', 'Urban', 'Urban', 'Rural', 'Urban', 'Urban', 'Rural', 'Suburban', 'Rural', 'Urban', 'Suburban', 'Suburban', 'Urban', 'Urban', 'Urban', 'Urban', 'Urban', 'Suburban', 'Rural', 'Urban', 'Urban', 'Suburban', 'Urban', 'Urban', 'Urban', 'Suburban', 'Urban', 'Urban']\n"
     ]
    }
   ],
   "source": [
    "\n",
    "#Take city_data_df and sort alphabetically by city column\n",
    "sorted_cities_df = city_data_df.sort_values(\"city\")\n",
    "sorted_cities_df.head()\n",
    "\n",
    "\n",
    "#create new varibale to store the sorted_cities_df values to a list\n",
    "city_types_sorted = sorted_cities_df['type'].values.tolist()\n",
    "print(city_types_sorted)\n",
    "#show length of this variable\n",
    "#len(city_types_sorted)\n",
    "\n",
    "    \n",
    "\n"
   ]
  },
  {
   "cell_type": "code",
   "execution_count": 50,
   "metadata": {},
   "outputs": [
    {
     "data": {
      "text/html": [
       "<div>\n",
       "<style scoped>\n",
       "    .dataframe tbody tr th:only-of-type {\n",
       "        vertical-align: middle;\n",
       "    }\n",
       "\n",
       "    .dataframe tbody tr th {\n",
       "        vertical-align: top;\n",
       "    }\n",
       "\n",
       "    .dataframe thead th {\n",
       "        text-align: right;\n",
       "    }\n",
       "</style>\n",
       "<table border=\"1\" class=\"dataframe\">\n",
       "  <thead>\n",
       "    <tr style=\"text-align: right;\">\n",
       "      <th></th>\n",
       "      <th>city</th>\n",
       "      <th>date</th>\n",
       "      <th>fare</th>\n",
       "      <th>ride_id</th>\n",
       "    </tr>\n",
       "  </thead>\n",
       "  <tbody>\n",
       "    <tr>\n",
       "      <th>0</th>\n",
       "      <td>Lake Jonathanshire</td>\n",
       "      <td>2018-01-14 10:14:22</td>\n",
       "      <td>13.83</td>\n",
       "      <td>5739410935873</td>\n",
       "    </tr>\n",
       "    <tr>\n",
       "      <th>1</th>\n",
       "      <td>South Michelleport</td>\n",
       "      <td>2018-03-04 18:24:09</td>\n",
       "      <td>30.24</td>\n",
       "      <td>2343912425577</td>\n",
       "    </tr>\n",
       "    <tr>\n",
       "      <th>2</th>\n",
       "      <td>Port Samanthamouth</td>\n",
       "      <td>2018-02-24 04:29:00</td>\n",
       "      <td>33.44</td>\n",
       "      <td>2005065760003</td>\n",
       "    </tr>\n",
       "    <tr>\n",
       "      <th>3</th>\n",
       "      <td>Rodneyfort</td>\n",
       "      <td>2018-02-10 23:22:03</td>\n",
       "      <td>23.44</td>\n",
       "      <td>5149245426178</td>\n",
       "    </tr>\n",
       "    <tr>\n",
       "      <th>4</th>\n",
       "      <td>South Jack</td>\n",
       "      <td>2018-03-06 04:28:35</td>\n",
       "      <td>34.58</td>\n",
       "      <td>3908451377344</td>\n",
       "    </tr>\n",
       "  </tbody>\n",
       "</table>\n",
       "</div>"
      ],
      "text/plain": [
       "                 city                 date   fare        ride_id\n",
       "0  Lake Jonathanshire  2018-01-14 10:14:22  13.83  5739410935873\n",
       "1  South Michelleport  2018-03-04 18:24:09  30.24  2343912425577\n",
       "2  Port Samanthamouth  2018-02-24 04:29:00  33.44  2005065760003\n",
       "3          Rodneyfort  2018-02-10 23:22:03  23.44  5149245426178\n",
       "4          South Jack  2018-03-06 04:28:35  34.58  3908451377344"
      ]
     },
     "execution_count": 50,
     "metadata": {},
     "output_type": "execute_result"
    }
   ],
   "source": [
    "ride_data_df.head()"
   ]
  },
  {
   "cell_type": "code",
   "execution_count": 51,
   "metadata": {},
   "outputs": [
    {
     "data": {
      "text/html": [
       "<div>\n",
       "<style scoped>\n",
       "    .dataframe tbody tr th:only-of-type {\n",
       "        vertical-align: middle;\n",
       "    }\n",
       "\n",
       "    .dataframe tbody tr th {\n",
       "        vertical-align: top;\n",
       "    }\n",
       "\n",
       "    .dataframe thead th {\n",
       "        text-align: right;\n",
       "    }\n",
       "</style>\n",
       "<table border=\"1\" class=\"dataframe\">\n",
       "  <thead>\n",
       "    <tr style=\"text-align: right;\">\n",
       "      <th></th>\n",
       "      <th>city</th>\n",
       "      <th>date</th>\n",
       "      <th>fare</th>\n",
       "      <th>ride_id</th>\n",
       "      <th>driver_count</th>\n",
       "      <th>type</th>\n",
       "    </tr>\n",
       "  </thead>\n",
       "  <tbody>\n",
       "    <tr>\n",
       "      <th>0</th>\n",
       "      <td>Lake Jonathanshire</td>\n",
       "      <td>2018-01-14 10:14:22</td>\n",
       "      <td>13.83</td>\n",
       "      <td>5739410935873</td>\n",
       "      <td>5</td>\n",
       "      <td>Urban</td>\n",
       "    </tr>\n",
       "    <tr>\n",
       "      <th>1</th>\n",
       "      <td>Lake Jonathanshire</td>\n",
       "      <td>2018-04-07 20:51:11</td>\n",
       "      <td>31.25</td>\n",
       "      <td>4441251834598</td>\n",
       "      <td>5</td>\n",
       "      <td>Urban</td>\n",
       "    </tr>\n",
       "    <tr>\n",
       "      <th>2</th>\n",
       "      <td>Lake Jonathanshire</td>\n",
       "      <td>2018-03-09 23:45:55</td>\n",
       "      <td>19.89</td>\n",
       "      <td>2389495660448</td>\n",
       "      <td>5</td>\n",
       "      <td>Urban</td>\n",
       "    </tr>\n",
       "    <tr>\n",
       "      <th>3</th>\n",
       "      <td>Lake Jonathanshire</td>\n",
       "      <td>2018-04-07 18:09:21</td>\n",
       "      <td>24.28</td>\n",
       "      <td>7796805191168</td>\n",
       "      <td>5</td>\n",
       "      <td>Urban</td>\n",
       "    </tr>\n",
       "    <tr>\n",
       "      <th>4</th>\n",
       "      <td>Lake Jonathanshire</td>\n",
       "      <td>2018-01-02 14:14:50</td>\n",
       "      <td>13.89</td>\n",
       "      <td>424254840012</td>\n",
       "      <td>5</td>\n",
       "      <td>Urban</td>\n",
       "    </tr>\n",
       "  </tbody>\n",
       "</table>\n",
       "</div>"
      ],
      "text/plain": [
       "                 city                 date   fare        ride_id  \\\n",
       "0  Lake Jonathanshire  2018-01-14 10:14:22  13.83  5739410935873   \n",
       "1  Lake Jonathanshire  2018-04-07 20:51:11  31.25  4441251834598   \n",
       "2  Lake Jonathanshire  2018-03-09 23:45:55  19.89  2389495660448   \n",
       "3  Lake Jonathanshire  2018-04-07 18:09:21  24.28  7796805191168   \n",
       "4  Lake Jonathanshire  2018-01-02 14:14:50  13.89   424254840012   \n",
       "\n",
       "   driver_count   type  \n",
       "0             5  Urban  \n",
       "1             5  Urban  \n",
       "2             5  Urban  \n",
       "3             5  Urban  \n",
       "4             5  Urban  "
      ]
     },
     "execution_count": 51,
     "metadata": {},
     "output_type": "execute_result"
    }
   ],
   "source": [
    "#merge the two data frames showing the rows in left table which have matching keys in the right table\n",
    "\n",
    "merge_df = pd.merge(ride_data_df, city_data_df, on=\"city\", how='right')\n",
    "\n",
    "merge_df.head(5)\n",
    "#len(merge_df)\n"
   ]
  },
  {
   "cell_type": "code",
   "execution_count": 52,
   "metadata": {},
   "outputs": [],
   "source": [
    "#calcuate total fares value\n",
    "total_fares = merge_df.fare.sum()\n",
    "#calcluate total rides\n",
    "total_rides =len(merge_df.ride_id)\n"
   ]
  },
  {
   "cell_type": "code",
   "execution_count": 53,
   "metadata": {},
   "outputs": [
    {
     "data": {
      "text/html": [
       "<div>\n",
       "<style scoped>\n",
       "    .dataframe tbody tr th:only-of-type {\n",
       "        vertical-align: middle;\n",
       "    }\n",
       "\n",
       "    .dataframe tbody tr th {\n",
       "        vertical-align: top;\n",
       "    }\n",
       "\n",
       "    .dataframe thead th {\n",
       "        text-align: right;\n",
       "    }\n",
       "</style>\n",
       "<table border=\"1\" class=\"dataframe\">\n",
       "  <thead>\n",
       "    <tr style=\"text-align: right;\">\n",
       "      <th></th>\n",
       "      <th>city</th>\n",
       "      <th>date</th>\n",
       "      <th>fare</th>\n",
       "      <th>ride_id</th>\n",
       "      <th>driver_count</th>\n",
       "      <th>type</th>\n",
       "    </tr>\n",
       "  </thead>\n",
       "  <tbody>\n",
       "    <tr>\n",
       "      <th>1565</th>\n",
       "      <td>Amandaburgh</td>\n",
       "      <td>2018-01-11 02:22:07</td>\n",
       "      <td>29.24</td>\n",
       "      <td>7279902884763</td>\n",
       "      <td>12</td>\n",
       "      <td>Urban</td>\n",
       "    </tr>\n",
       "    <tr>\n",
       "      <th>1562</th>\n",
       "      <td>Amandaburgh</td>\n",
       "      <td>2018-03-05 02:15:38</td>\n",
       "      <td>26.28</td>\n",
       "      <td>906850928986</td>\n",
       "      <td>12</td>\n",
       "      <td>Urban</td>\n",
       "    </tr>\n",
       "    <tr>\n",
       "      <th>1563</th>\n",
       "      <td>Amandaburgh</td>\n",
       "      <td>2018-02-24 23:10:49</td>\n",
       "      <td>43.66</td>\n",
       "      <td>6573820412437</td>\n",
       "      <td>12</td>\n",
       "      <td>Urban</td>\n",
       "    </tr>\n",
       "    <tr>\n",
       "      <th>1564</th>\n",
       "      <td>Amandaburgh</td>\n",
       "      <td>2018-02-10 20:42:46</td>\n",
       "      <td>36.17</td>\n",
       "      <td>6455620849753</td>\n",
       "      <td>12</td>\n",
       "      <td>Urban</td>\n",
       "    </tr>\n",
       "    <tr>\n",
       "      <th>1566</th>\n",
       "      <td>Amandaburgh</td>\n",
       "      <td>2018-01-21 04:12:54</td>\n",
       "      <td>9.26</td>\n",
       "      <td>5528427024492</td>\n",
       "      <td>12</td>\n",
       "      <td>Urban</td>\n",
       "    </tr>\n",
       "  </tbody>\n",
       "</table>\n",
       "</div>"
      ],
      "text/plain": [
       "             city                 date   fare        ride_id  driver_count  \\\n",
       "1565  Amandaburgh  2018-01-11 02:22:07  29.24  7279902884763            12   \n",
       "1562  Amandaburgh  2018-03-05 02:15:38  26.28   906850928986            12   \n",
       "1563  Amandaburgh  2018-02-24 23:10:49  43.66  6573820412437            12   \n",
       "1564  Amandaburgh  2018-02-10 20:42:46  36.17  6455620849753            12   \n",
       "1566  Amandaburgh  2018-01-21 04:12:54   9.26  5528427024492            12   \n",
       "\n",
       "       type  \n",
       "1565  Urban  \n",
       "1562  Urban  \n",
       "1563  Urban  \n",
       "1564  Urban  \n",
       "1566  Urban  "
      ]
     },
     "execution_count": 53,
     "metadata": {},
     "output_type": "execute_result"
    }
   ],
   "source": [
    "#take the merged df and sort the values by the city column\n",
    "\n",
    " \n",
    "sorted_cites_df = merge_df.sort_values(\"city\")\n",
    "\n",
    "sorted_cites_df.head(5)\n",
    "\n",
    "\n",
    "\n",
    "\n",
    "    \n",
    "\n",
    "\n"
   ]
  },
  {
   "cell_type": "code",
   "execution_count": 54,
   "metadata": {},
   "outputs": [
    {
     "data": {
      "text/html": [
       "<div>\n",
       "<style scoped>\n",
       "    .dataframe tbody tr th:only-of-type {\n",
       "        vertical-align: middle;\n",
       "    }\n",
       "\n",
       "    .dataframe tbody tr th {\n",
       "        vertical-align: top;\n",
       "    }\n",
       "\n",
       "    .dataframe thead th {\n",
       "        text-align: right;\n",
       "    }\n",
       "</style>\n",
       "<table border=\"1\" class=\"dataframe\">\n",
       "  <thead>\n",
       "    <tr style=\"text-align: right;\">\n",
       "      <th></th>\n",
       "      <th>Average_Fare_per_city</th>\n",
       "      <th>Total_rides_per_city</th>\n",
       "      <th>Total_drivers_per_city</th>\n",
       "      <th>City_Types</th>\n",
       "      <th>Total_fares_per_city</th>\n",
       "    </tr>\n",
       "    <tr>\n",
       "      <th>city</th>\n",
       "      <th></th>\n",
       "      <th></th>\n",
       "      <th></th>\n",
       "      <th></th>\n",
       "      <th></th>\n",
       "    </tr>\n",
       "  </thead>\n",
       "  <tbody>\n",
       "    <tr>\n",
       "      <th>Amandaburgh</th>\n",
       "      <td>24.64</td>\n",
       "      <td>18</td>\n",
       "      <td>12.0</td>\n",
       "      <td>Urban</td>\n",
       "      <td>443.55</td>\n",
       "    </tr>\n",
       "    <tr>\n",
       "      <th>Barajasview</th>\n",
       "      <td>25.33</td>\n",
       "      <td>22</td>\n",
       "      <td>26.0</td>\n",
       "      <td>Urban</td>\n",
       "      <td>557.31</td>\n",
       "    </tr>\n",
       "    <tr>\n",
       "      <th>Barronchester</th>\n",
       "      <td>36.42</td>\n",
       "      <td>16</td>\n",
       "      <td>11.0</td>\n",
       "      <td>Suburban</td>\n",
       "      <td>582.76</td>\n",
       "    </tr>\n",
       "    <tr>\n",
       "      <th>Bethanyland</th>\n",
       "      <td>32.96</td>\n",
       "      <td>18</td>\n",
       "      <td>22.0</td>\n",
       "      <td>Suburban</td>\n",
       "      <td>593.21</td>\n",
       "    </tr>\n",
       "    <tr>\n",
       "      <th>Bradshawfurt</th>\n",
       "      <td>40.06</td>\n",
       "      <td>10</td>\n",
       "      <td>7.0</td>\n",
       "      <td>Rural</td>\n",
       "      <td>400.64</td>\n",
       "    </tr>\n",
       "  </tbody>\n",
       "</table>\n",
       "</div>"
      ],
      "text/plain": [
       "               Average_Fare_per_city  Total_rides_per_city  \\\n",
       "city                                                         \n",
       "Amandaburgh                    24.64                    18   \n",
       "Barajasview                    25.33                    22   \n",
       "Barronchester                  36.42                    16   \n",
       "Bethanyland                    32.96                    18   \n",
       "Bradshawfurt                   40.06                    10   \n",
       "\n",
       "               Total_drivers_per_city City_Types  Total_fares_per_city  \n",
       "city                                                                    \n",
       "Amandaburgh                      12.0      Urban                443.55  \n",
       "Barajasview                      26.0      Urban                557.31  \n",
       "Barronchester                    11.0   Suburban                582.76  \n",
       "Bethanyland                      22.0   Suburban                593.21  \n",
       "Bradshawfurt                      7.0      Rural                400.64  "
      ]
     },
     "execution_count": 54,
     "metadata": {},
     "output_type": "execute_result"
    }
   ],
   "source": [
    "#average fare per city\n",
    "average_fare_per_city = merge_df.groupby([\"city\"]).mean()['fare'].rename(\"Average Fare per city\")\n",
    "#total rides per city\n",
    "total_rides_per_city = merge_df.groupby([\"city\"]).count()['ride_id'].rename(\"Total rides per city\")\n",
    "#total drivers per city\n",
    "total_drivers_per_city = merge_df.groupby([\"city\"]).mean()['driver_count'].rename(\"Total drivers per city\")\n",
    "#total fare per city\n",
    "total_fare_per_city =  merge_df.groupby([\"city\"]).sum()['fare'].rename(\"Total Fare per city\")\n",
    "\n",
    "#put prior varibables into a dataframe\n",
    "\n",
    "city_data = pd.DataFrame({\"Average_Fare_per_city\": average_fare_per_city.round(2), \"Total_rides_per_city\": total_rides_per_city, \"Total_drivers_per_city\": total_drivers_per_city, \"City_Types\": city_types_sorted, \"Total_fares_per_city\": total_fare_per_city })\n",
    "\n",
    "city_data.head(5)\n"
   ]
  },
  {
   "cell_type": "code",
   "execution_count": 55,
   "metadata": {},
   "outputs": [],
   "source": [
    "#take the prior data frame and group by index city_types and city names\n",
    "grouped_by = city_data.groupby(['City_Types', 'city' ]).agg({\n",
    "    'Average_Fare_per_city':\"mean\",\n",
    "    'Total_rides_per_city':sum,\n",
    "    'Total_drivers_per_city':sum})\n",
    "\n",
    "\n",
    "#located the data only for rural rides\n",
    "row =  grouped_by.loc['Rural', :]; row\n",
    "average_rural_fares_per_city = row.Average_Fare_per_city.tolist()\n",
    "#average_rural_fares_per_city\n",
    "total_rural_rides_per_city = row.Total_rides_per_city.tolist()\n",
    "#total_rural_rides_per_city\n",
    "total_rural_drivers_per_city = row.Total_drivers_per_city.tolist()\n",
    "#total_rural_drivers_per_city\n",
    "\n",
    "\n",
    "#located the data only for urban rides\n",
    "row1 =  grouped_by.loc['Urban', :]; row1\n",
    "average_urban_fares_per_city = row1.Average_Fare_per_city.tolist()\n",
    "#average_urban_fares_per_city\n",
    "total_urban_rides_per_city = row1.Total_rides_per_city.tolist()\n",
    "#total_urban_rides_per_city\n",
    "total_urban_drivers_per_city = row1.Total_drivers_per_city.tolist()\n",
    "#total_urban_drivers_per_city\n",
    "\n",
    "#located the data only for suburban rides\n",
    "row3 =  grouped_by.loc['Suburban', :]; row3\n",
    "average_Suburban_fares_per_city = row3.Average_Fare_per_city.tolist()\n",
    "#average_Suburban_fares_per_city\n",
    "total_Suburban_rides_per_city = row3.Total_rides_per_city.tolist()\n",
    "#total_Suburban_rides_per_city\n",
    "total_Suburban_drivers_per_city = row3.Total_drivers_per_city.tolist()\n",
    "#total_Suburban_drivers_per_city\n",
    "\n",
    "\n"
   ]
  },
  {
   "cell_type": "code",
   "execution_count": 56,
   "metadata": {},
   "outputs": [
    {
     "name": "stdout",
     "output_type": "stream",
     "text": [
      "<pandas.core.groupby.generic.DataFrameGroupBy object at 0x0000013BCE67FEF0>\n"
     ]
    },
    {
     "data": {
      "text/plain": [
       "City_Types\n",
       "Rural        6.81\n",
       "Suburban    30.46\n",
       "Urban       62.72\n",
       "Name: Total_fares_per_city, dtype: float64"
      ]
     },
     "execution_count": 56,
     "metadata": {},
     "output_type": "execute_result"
    }
   ],
   "source": [
    "\n",
    "#take the city_data and set index to city type \n",
    "grouped_df = city_data.groupby(['City_Types'])\n",
    "print(grouped_df)                                \n",
    "grouped_df.head(120)\n",
    "\n",
    "#set variables for you sums based on the grouped_df\n",
    "#total rides by city type\n",
    "total_rides_by_city_type = grouped_df[\"Total_rides_per_city\"].sum()\n",
    "#total drivers by city type\n",
    "total_drivers_by_city_type = grouped_df[\"Total_drivers_per_city\"].sum()\n",
    "#total fares by city type\n",
    "total_fares_by_city_type = grouped_df[\"Total_fares_per_city\"].sum() \n",
    "\n",
    "total_fares_by_city_type\n",
    "\n",
    "# set variable for % calculations-- take the variables by city type and divide by the total variables based on entire data set\n",
    "\n",
    "#total rides by city type\n",
    "percent_of_totalrides_by_citytype =(total_rides_by_city_type / total_rides) * 100\n",
    "# round the result to 2 decimals \n",
    "percent_of_totalrides_by_citytype.round(2)\n",
    "\n",
    "#total drivers by city type\n",
    "percent_of_totaldrivers_by_citytype = (total_drivers_by_city_type / total_driver_count) * 100\n",
    "#round the result to 2 decimals\n",
    "percent_of_totaldrivers_by_citytype.round(2)\n",
    "\n",
    "#total fares by city type\n",
    "percent_of_total_fares_by_city_type = (total_fares_by_city_type / total_fares) * 100\n",
    "#percent_of_totaldrivers_by_citytype.round(2)\n",
    "percent_of_total_fares_by_city_type .round(2)\n",
    "\n",
    "#create DF\n",
    "\n"
   ]
  },
  {
   "cell_type": "code",
   "execution_count": 57,
   "metadata": {},
   "outputs": [],
   "source": [
    "#create DF\n",
    "city_type_data = pd.DataFrame({\"Percent of total rides by city type\": percent_of_totalrides_by_citytype.round(2), \"Percent of total fares by city type\": percent_of_total_fares_by_city_type .round(2), \"Percent of Total drivers by city type\": percent_of_totaldrivers_by_citytype.round(2)})"
   ]
  },
  {
   "cell_type": "code",
   "execution_count": 58,
   "metadata": {},
   "outputs": [
    {
     "data": {
      "text/html": [
       "<div>\n",
       "<style scoped>\n",
       "    .dataframe tbody tr th:only-of-type {\n",
       "        vertical-align: middle;\n",
       "    }\n",
       "\n",
       "    .dataframe tbody tr th {\n",
       "        vertical-align: top;\n",
       "    }\n",
       "\n",
       "    .dataframe thead th {\n",
       "        text-align: right;\n",
       "    }\n",
       "</style>\n",
       "<table border=\"1\" class=\"dataframe\">\n",
       "  <thead>\n",
       "    <tr style=\"text-align: right;\">\n",
       "      <th></th>\n",
       "      <th>Percent of total rides by city type</th>\n",
       "      <th>Percent of total fares by city type</th>\n",
       "      <th>Percent of Total drivers by city type</th>\n",
       "    </tr>\n",
       "    <tr>\n",
       "      <th>City_Types</th>\n",
       "      <th></th>\n",
       "      <th></th>\n",
       "      <th></th>\n",
       "    </tr>\n",
       "  </thead>\n",
       "  <tbody>\n",
       "    <tr>\n",
       "      <th>Rural</th>\n",
       "      <td>5.26</td>\n",
       "      <td>6.81</td>\n",
       "      <td>2.62</td>\n",
       "    </tr>\n",
       "    <tr>\n",
       "      <th>Suburban</th>\n",
       "      <td>26.32</td>\n",
       "      <td>30.46</td>\n",
       "      <td>16.48</td>\n",
       "    </tr>\n",
       "    <tr>\n",
       "      <th>Urban</th>\n",
       "      <td>68.42</td>\n",
       "      <td>62.72</td>\n",
       "      <td>80.89</td>\n",
       "    </tr>\n",
       "  </tbody>\n",
       "</table>\n",
       "</div>"
      ],
      "text/plain": [
       "            Percent of total rides by city type  \\\n",
       "City_Types                                        \n",
       "Rural                                      5.26   \n",
       "Suburban                                  26.32   \n",
       "Urban                                     68.42   \n",
       "\n",
       "            Percent of total fares by city type  \\\n",
       "City_Types                                        \n",
       "Rural                                      6.81   \n",
       "Suburban                                  30.46   \n",
       "Urban                                     62.72   \n",
       "\n",
       "            Percent of Total drivers by city type  \n",
       "City_Types                                         \n",
       "Rural                                        2.62  \n",
       "Suburban                                    16.48  \n",
       "Urban                                       80.89  "
      ]
     },
     "execution_count": 58,
     "metadata": {},
     "output_type": "execute_result"
    }
   ],
   "source": [
    "city_type_data"
   ]
  },
  {
   "cell_type": "code",
   "execution_count": 59,
   "metadata": {},
   "outputs": [
    {
     "data": {
      "text/plain": [
       "<function matplotlib.pyplot.show(*args, **kw)>"
      ]
     },
     "execution_count": 59,
     "metadata": {},
     "output_type": "execute_result"
    },
    {
     "data": {
      "image/png": "[encoded data removed]",
      "text/plain": [
       "<Figure size 432x288 with 1 Axes>"
      ]
     },
     "metadata": {},
     "output_type": "display_data"
    }
   ],
   "source": [
    "#create pie chart for % of total fares by city type\n",
    "\n",
    "plt.title(\"% of Total Fares by City Type\")\n",
    "labels = [\"Rural\", \"Suburban\", \"Urban\"]\n",
    "sizes = [6.81, 30.46, 62.72]\n",
    "colors = [\"gold\", \"skyblue\", \"coral\"]\n",
    "explode = (0.25, .1, 0)\n",
    "\n",
    "plt.pie(sizes, explode=explode, labels=labels, colors=colors,\n",
    "       autopct=\"%1.1f%%\", shadow=True, startangle=160)\n",
    "plt.show\n"
   ]
  },
  {
   "cell_type": "code",
   "execution_count": 60,
   "metadata": {},
   "outputs": [
    {
     "data": {
      "text/plain": [
       "<function matplotlib.pyplot.show(*args, **kw)>"
      ]
     },
     "execution_count": 60,
     "metadata": {},
     "output_type": "execute_result"
    },
    {
     "data": {
      "image/png": "[encoded data removed]",
      "text/plain": [
       "<Figure size 432x288 with 1 Axes>"
      ]
     },
     "metadata": {},
     "output_type": "display_data"
    }
   ],
   "source": [
    "#create pie chart for % of total rides by city type\n",
    "plt.title(\"% of Total Rides by City Type\")\n",
    "labels = [\"Rural\", \"Suburban\", \"Urban\"]\n",
    "sizes = [5.26, 26.32, 68.42]\n",
    "colors = [\"gold\", \"skyblue\", \"coral\"]\n",
    "explode = (0.5, .1, 0)\n",
    "\n",
    "plt.pie(sizes, explode=explode, labels=labels, colors=colors,\n",
    "       autopct=\"%1.1f%%\", shadow=True, startangle=160)\n",
    "plt.show\n"
   ]
  },
  {
   "cell_type": "code",
   "execution_count": 61,
   "metadata": {},
   "outputs": [
    {
     "data": {
      "text/plain": [
       "<function matplotlib.pyplot.show(*args, **kw)>"
      ]
     },
     "execution_count": 61,
     "metadata": {},
     "output_type": "execute_result"
    },
    {
     "data": {
      "image/png": "[encoded data removed]",
      "text/plain": [
       "<Figure size 432x288 with 1 Axes>"
      ]
     },
     "metadata": {},
     "output_type": "display_data"
    }
   ],
   "source": [
    "#create pie chart for % of total drivers by city type\n",
    "plt.title(\"% of Total Drivers by City Type\")\n",
    "labels = [\"Rural\", \"Suburban\", \"Urban\"]\n",
    "sizes = [2.62, 16.48, 80.89]\n",
    "colors = [\"gold\", \"skyblue\", \"coral\"]\n",
    "explode = (0.5, .1, 0)\n",
    "\n",
    "plt.pie(sizes, explode=explode, labels=labels, colors=colors,\n",
    "       autopct=\"%1.1f%%\", shadow=True, startangle=160)\n",
    "plt.show\n"
   ]
  },
  {
   "cell_type": "code",
   "execution_count": 62,
   "metadata": {},
   "outputs": [
    {
     "data": {
      "text/plain": [
       "<function matplotlib.pyplot.show(*args, **kw)>"
      ]
     },
     "execution_count": 62,
     "metadata": {},
     "output_type": "execute_result"
    },
    {
     "data": {
      "image/png": "[encoded data removed]",
      "text/plain": [
       "<Figure size 1152x576 with 1 Axes>"
      ]
     },
     "metadata": {
      "needs_background": "light"
     },
     "output_type": "display_data"
    }
   ],
   "source": [
    "#Rural scatter plot\n",
    "plt.figure(figsize=(16,8))\n",
    "plt.grid(True)\n",
    "\n",
    "#x axis\n",
    "x = [total_rural_rides_per_city]\n",
    "#y axis\n",
    "y = [average_rural_fares_per_city]\n",
    "\n",
    "plt.scatter(x, y, marker=\"o\", facecolors=\"gold\", edgecolors=\"black\", s=total_rural_drivers_per_city, alpha=0.75)\n",
    "\n",
    "\n",
    "\n",
    "plt.title(\"Pyber Ride Sharing Data(2016)\")\n",
    "plt.xlabel(\"Total Number of Rides(Per City)\")\n",
    "plt.ylabel(\"Average Fare($)\")\n",
    "\n",
    "plt.show"
   ]
  },
  {
   "cell_type": "code",
   "execution_count": 63,
   "metadata": {},
   "outputs": [
    {
     "data": {
      "text/plain": [
       "<function matplotlib.pyplot.show(*args, **kw)>"
      ]
     },
     "execution_count": 63,
     "metadata": {},
     "output_type": "execute_result"
    },
    {
     "data": {
      "image/png": "[encoded data removed]",
      "text/plain": [
       "<Figure size 1152x576 with 1 Axes>"
      ]
     },
     "metadata": {
      "needs_background": "light"
     },
     "output_type": "display_data"
    }
   ],
   "source": [
    "#suburban scatter plot\n",
    "plt.figure(figsize=(16,8))\n",
    "plt.grid(True)\n",
    "\n",
    "#x axis\n",
    "x = [total_Suburban_rides_per_city]\n",
    "#y axis\n",
    "y = [average_Suburban_fares_per_city]\n",
    "\n",
    "plt.scatter(x, y, marker=\"o\", facecolors=\"blue\", edgecolors=\"black\", s=total_Suburban_drivers_per_city, alpha=0.75)\n",
    "\n",
    "\n",
    "\n",
    "plt.title(\"Pyber Ride Sharing Data(2016)\")\n",
    "plt.xlabel(\"Total Number of Rides(Per City)\")\n",
    "plt.ylabel(\"Average Fare($)\")\n",
    "plt.show"
   ]
  },
  {
   "cell_type": "code",
   "execution_count": 64,
   "metadata": {},
   "outputs": [
    {
     "data": {
      "text/plain": [
       "Text(0.95, 0.9, 'Note: Circle size correlates with driver count per city')"
      ]
     },
     "execution_count": 64,
     "metadata": {},
     "output_type": "execute_result"
    },
    {
     "data": {
      "image/png": "[encoded data removed]",
      "text/plain": [
       "<Figure size 1152x576 with 1 Axes>"
      ]
     },
     "metadata": {
      "needs_background": "light"
     },
     "output_type": "display_data"
    }
   ],
   "source": [
    "#combine all three on one scatter plot\n",
    "\n",
    "#Create urban plot\n",
    "plt.figure(figsize=(16,8))\n",
    "plt.grid(True)\n",
    "\n",
    "#x axis\n",
    "x1 = [total_urban_rides_per_city]\n",
    "#y axis\n",
    "y1 = [average_urban_fares_per_city]\n",
    "\n",
    "plt.scatter(x1, y1, marker=\"o\", facecolors=\"coral\", edgecolors=\"black\", s=total_urban_drivers_per_city, alpha=1.0, label=\"Urban\")\n",
    "\n",
    "#Create rural\n",
    "#x axis\n",
    "x2 = [total_rural_rides_per_city]\n",
    "#y axis\n",
    "y2 = [average_rural_fares_per_city]\n",
    "\n",
    "plt.scatter(x2, y2, marker=\"o\", facecolors=\"gold\", edgecolors=\"black\", s=total_rural_drivers_per_city, alpha=1.0, label=\"Rural\")\n",
    "#create suburban \n",
    "#x axis\n",
    "x3 = [total_Suburban_rides_per_city]\n",
    "#y axis\n",
    "y3 = [average_Suburban_fares_per_city]\n",
    "\n",
    "plt.scatter(x3, y3, marker=\"o\", facecolors=\"blue\", edgecolors=\"black\", s=total_Suburban_drivers_per_city, alpha=1.0, label=\"Suburban\")\n",
    "\n",
    "locations = [\"Urban\", \"Rural\", \"Suburban\"]\n",
    "colors_code = [\"r\", \"g\", \"b\"]\n",
    "plt.legend()\n",
    "plt.title(\"Pyber Ride Sharing Data(2016)\")\n",
    "plt.xlabel(\"Total Number of Rides(Per City)\")\n",
    "plt.ylabel(\"Average Fare($)\")\n",
    "figtext(.95, .9, \"Note: Circle size correlates with driver count per city\", rotation='horizontal')\n"
   ]
  },
  {
   "cell_type": "code",
   "execution_count": null,
   "metadata": {},
   "outputs": [],
   "source": [
    "\n"
   ]
  },
  {
   "cell_type": "code",
   "execution_count": null,
   "metadata": {},
   "outputs": [],
   "source": []
  }
 ],
 "metadata": {
  "kernelspec": {
   "display_name": "Python 3",
   "language": "python",
   "name": "python3"
  },
  "language_info": {
   "codemirror_mode": {
    "name": "ipython",
    "version": 3
   },
   "file_extension": ".py",
   "mimetype": "text/x-python",
   "name": "python",
   "nbconvert_exporter": "python",
   "pygments_lexer": "ipython3",
   "version": "3.7.3"
  }
 },
 "nbformat": 4,
 "nbformat_minor": 2
}
